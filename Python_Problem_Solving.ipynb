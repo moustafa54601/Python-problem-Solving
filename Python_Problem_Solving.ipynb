{
 "cells": [
  {
   "cell_type": "code",
   "execution_count": 3,
   "metadata": {},
   "outputs": [],
   "source": [
    "import random\n",
    "def guessing_game():\n",
    "    num=random.randint(0,100)\n",
    "    \n",
    "    while True:\n",
    "        guess=int(input(\"Enter your Guess between [0 and 100 ] !\"))\n",
    "        if guess == num :\n",
    "            print(\"Correct Guess !\")\n",
    "            break\n",
    "        elif guess > num :\n",
    "            print(\"Too High !\")\n",
    "        else :\n",
    "            print(\"Too low !\")\n",
    "            \n",
    "#guessing_game()"
   ]
  },
  {
   "cell_type": "code",
   "execution_count": 11,
   "metadata": {},
   "outputs": [
    {
     "name": "stdout",
     "output_type": "stream",
     "text": [
      "13\n"
     ]
    }
   ],
   "source": [
    "def sum_all(*args):\n",
    "    output=0\n",
    "    for i in args:\n",
    "        output+=i\n",
    "    return output\n",
    "print(sum_all(1,2,6,4))"
   ]
  },
  {
   "cell_type": "code",
   "execution_count": 18,
   "metadata": {},
   "outputs": [
    {
     "name": "stdout",
     "output_type": "stream",
     "text": [
      "12\n"
     ]
    }
   ],
   "source": [
    "def sum_with_start_point(list,start_point=0):\n",
    "    output=0\n",
    "    for num in list[start_point:]:\n",
    "        output+=num\n",
    "    return output\n",
    "print(sum_with_start_point([1,2,3,4,5],2))"
   ]
  },
  {
   "cell_type": "code",
   "execution_count": 8,
   "metadata": {},
   "outputs": [
    {
     "name": "stdout",
     "output_type": "stream",
     "text": [
      "(0, 7, 3.5)\n"
     ]
    }
   ],
   "source": [
    "def wordy(list):\n",
    "    min_length=len(list[0])\n",
    "    max_length=len(list[0])\n",
    "    sum_lengths=0\n",
    "\n",
    "    for elem in list:\n",
    "        if(len(elem) > max_length):\n",
    "            max_length=len(elem)\n",
    "        elif(len(elem)<min_length):\n",
    "            min_length=len(elem)\n",
    "        sum_lengths+=len(elem)\n",
    "\n",
    "    \n",
    "    avg_length=sum_lengths/len(list)\n",
    "    return (min_length,max_length,avg_length)\n",
    "\n",
    "print(wordy([\"Hek\",\"Heyo\",\"\",\"HEJJJOV\"]))"
   ]
  },
  {
   "cell_type": "code",
   "execution_count": 33,
   "metadata": {},
   "outputs": [
    {
     "name": "stdout",
     "output_type": "stream",
     "text": [
      "You didnt enter a run time\n"
     ]
    }
   ],
   "source": [
    "def run_timing():\n",
    "    number_of_runs=0\n",
    "    time_total=0.0\n",
    "    while ( time:=input(\" Enter 10 Km run time :\")):\n",
    "        try:\n",
    "            time=float(time)\n",
    "        except ValueError as e:\n",
    "            print(\"This is not a valid run time\")\n",
    "        time_total+=time\n",
    "        number_of_runs+=1\n",
    "    if(number_of_runs==0):\n",
    "        print(\"You didnt enter a run time\")\n",
    "    else:\n",
    "        print( f'Average of {time_total/number_of_runs}, over {number_of_runs} runs')\n",
    "\n",
    "run_timing()\n"
   ]
  },
  {
   "cell_type": "code",
   "execution_count": 52,
   "metadata": {},
   "outputs": [
    {
     "data": {
      "text/plain": [
       "4.5"
      ]
     },
     "execution_count": 52,
     "metadata": {},
     "output_type": "execute_result"
    }
   ],
   "source": [
    "def before_after(decimal_num,before,after):\n",
    "    num_splitted=str(decimal_num).split('.')\n",
    "    return float(num_splitted[0][-before:]+'.'+num_splitted[1][:after])\n",
    "\n",
    "before_after(1234.5678,1,1)"
   ]
  },
  {
   "cell_type": "code",
   "execution_count": 69,
   "metadata": {},
   "outputs": [
    {
     "name": "stdout",
     "output_type": "stream",
     "text": [
      "You entered an invalid value\n"
     ]
    }
   ],
   "source": [
    "from decimal import *\n",
    "def sum_of_floats(x,y):\n",
    "    try :\n",
    "        x_dec=Decimal(x)\n",
    "        y_dec=Decimal(y)\n",
    "        return Decimal(x)+Decimal(y)\n",
    "    except InvalidOperation as e:\n",
    "        print('You entered an invalid value')\n",
    "    \n",
    "    \n",
    "sum_of_floats('0.1','a')"
   ]
  },
  {
   "cell_type": "code",
   "execution_count": null,
   "metadata": {},
   "outputs": [],
   "source": [
    "print(\"Testing\")"
   ]
  },
  {
   "cell_type": "code",
   "execution_count": null,
   "metadata": {},
   "outputs": [],
   "source": []
  }
 ],
 "metadata": {
  "kernelspec": {
   "display_name": "base",
   "language": "python",
   "name": "python3"
  },
  "language_info": {
   "codemirror_mode": {
    "name": "ipython",
    "version": 3
   },
   "file_extension": ".py",
   "mimetype": "text/x-python",
   "name": "python",
   "nbconvert_exporter": "python",
   "pygments_lexer": "ipython3",
   "version": "3.9.12 (main, Apr  5 2022, 06:56:58) \n[GCC 7.5.0]"
  },
  "orig_nbformat": 4,
  "vscode": {
   "interpreter": {
    "hash": "07162621caf2d65c82c202b00c2376f0995bc5d2ca0fa0188f0ac558cd5e0180"
   }
  }
 },
 "nbformat": 4,
 "nbformat_minor": 2
}
